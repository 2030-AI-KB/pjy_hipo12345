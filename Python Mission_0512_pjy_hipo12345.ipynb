{
 "cells": [
  {
   "cell_type": "markdown",
   "metadata": {
    "id": "LpNmx26hsyTc"
   },
   "source": []
  },
  {
   "cell_type": "code",
   "execution_count": null,
   "metadata": {
    "colab": {
     "base_uri": "https://localhost:8080/",
     "height": 35
    },
    "id": "w8wUd9XYiJK1",
    "outputId": "0a4a73e1-e0f7-433e-8423-bd1fb09ab136"
   },
   "outputs": [],
   "source": [
    "#Missoin_1.  구구단프로그램을 작성해주세요. 단을 입력하면 입력받은 단까지 모두 출력해주세요.1번째 방법\n",
    "gu = int(input('구구단을 외자! 몇 단부터 시작? : '))\n",
    "for i in range(1, 10): # 1단부터 9단까지 출력\n",
    "    print(gu,'X',i,\"=\",gu*i, end = '\\t') # gu*i 곱하고 이러한 식을 \"가로\"로 출력한다"
   ]
  },
  {
   "cell_type": "code",
   "execution_count": null,
   "metadata": {},
   "outputs": [],
   "source": [
    "#Missoin_1.  구구단프로그램을 작성해주세요. 단을 입력하면 입력받은 단까지 모두 출력해주세요.2번째 방법\n",
    "x = int(input(\"몇 단부터 시작할래요? : \"))\n",
    "while(True): #  조건이 참이면 계속 반복문을 수행\n",
    "    y=  int(input(\"몇 단까지 출력할래요? : \"))\n",
    "    if x < y:\n",
    "        break # 실행중인 반복문을 빠져나감\n",
    "    else:\n",
    "        print(x,\"보다 큰값 입력해줘요\")\n",
    "for i in range(x, y+1):\n",
    "    for j in range(1, 10): # 1단부터 9단까지 출력\n",
    "        print(i, \"X\", j, \"=\", i * j)\n",
    "        if(j == 9):\n",
    "            print()"
   ]
  },
  {
   "cell_type": "code",
   "execution_count": null,
   "metadata": {
    "id": "CXEM8Q6lB933"
   },
   "outputs": [
    {
     "name": "stdout",
     "output_type": "stream",
     "text": [
      "정수 입력해주세요 : 2\n",
      "4\n",
      "6\n"
     ]
    }
   ],
   "source": [
    "#Missoin_2.  20개의 정수를 입력 받아서 짝수와 홀수를 구분하여 저장해주세요. \n",
    "#           저장된 수의 총합이 얼마인지와 짝수의 합이 큰지 홀수의 합이 큰지를 알려주는 코드를 작성해주세요 \n",
    "\n",
    "n=int(input(\"정수 입력해주세요 : \")) # N에 정수를 입력받고, 정수의 배열을 입력받음\n",
    "for i in range(1,21):\n",
    "    n = list(map(int, input().split()))\n",
    "\n",
    "\n",
    "if (n % 2) == 0 : # 숫자를 2로 나누었을때 나머지가 0이면 짝수, 그게 아닌 경우면 홀수로 정의\n",
    "    print(\"짝수\")\n",
    "else:\n",
    "    print(\"홀수\")\n",
    "    \n",
    "sum = 0             # 저장된 수의 총합\n",
    "for i in range(1,21):\n",
    "    sum += i\n",
    "print(\"1부터 20까지의 합:\", sum)\n",
    "\n",
    "sum_odd = 0  #홀수 합\n",
    "sum_even = 0 #짝수 합\n",
    "\n",
    "for i in range(1,21):\n",
    "    if i%2 ==0:\n",
    "        sum_even += i\n",
    "    else:\n",
    "        sum_odd +=i;\n",
    "print(\"1부터 20까지 홀수의 합:\", sum_odd)\n",
    "print(\"1부터 20까지 짝수의 합:\", sum_even)\n",
    "# - 못한 부분 : 1번에 20개의 정수를 1줄에 입력하고싶은데, 여러가지 코드를 찾아봐도 자꾸 오류가 남! ㅠㅠ\n",
    "# - 못한 부분 : 짝수의 합이큰지, 홀수의 합이 큰지를 알려주는 코드는 작성못함"
   ]
  },
  {
   "cell_type": "code",
   "execution_count": null,
   "metadata": {
    "id": "V40v5PnzCFS1"
   },
   "outputs": [],
   "source": [
    "#Mission_3. 오늘의 기분을 입력받아서 입력한 기분 값이 10를 넘으면 그 기분에 맞는 내용을 알려주는 코드를 작성해주세요.\n",
    "\n"
   ]
  },
  {
   "cell_type": "code",
   "execution_count": null,
   "metadata": {
    "id": "9jH4mjmmCGk9"
   },
   "outputs": [],
   "source": [
    "#Mission_4. 아래의 코드를 보고 입력받은 5개의 성적을 기준을 작성하여 코드를 완성해주세요..\n",
    "#           단, 아래의 코드는 변경이 불가능합니다.\n",
    "\n",
    "mx_index = scores.index(mx_score) + 1\n",
    "min_index = scores.index(min_score) + 1\n",
    "print( \"입력한 성적중 \"+ str(mx_index) + \"번째 점수가 가장 높은 \"+ str(mx_score) + \"입니다.\")\n",
    "print( \"입력한 성적중 \"+ str(min_index) + \"번째 점수가 가장 낮은 \"+ str(min_score) + \"입니다.\")\n",
    "# 입력한 성적중 #번째 점수가 가장 높은 #점입니다."
   ]
  },
  {
   "cell_type": "code",
   "execution_count": null,
   "metadata": {
    "id": "ZnLJeuArCKV3"
   },
   "outputs": [],
   "source": [
    "#Mission_5. 아래의 Song의 내용을 분석할 수 있는 코드를 작성하여 정략적 수치를 통해 의견을 작성해주세요..\n",
    "\n",
    "# [의견 작성]\n",
    "#\n",
    "\n",
    "\n",
    "song = \"\"\"Fuck you and your mom and your sister and your job and your broke ass car and that shit you call art\n",
    "       fuck you And your friends that i'll never see again everybody but your dog you can all FUCK OFF i swear i meant to mean the best when it ended even try to bite my tongue when you start shit\n",
    "       now you're texting all my friends asking questions hey never even liked you in the first place\"\"\"\n"
   ]
  },
  {
   "cell_type": "code",
   "execution_count": null,
   "metadata": {
    "id": "SXEYRt6yCNjN"
   },
   "outputs": [],
   "source": [
    "#Mission_6. 이름과 점수를 입력하면 학점을 반환하여 저장하는 코드를 작성해주세요."
   ]
  },
  {
   "cell_type": "code",
   "execution_count": null,
   "metadata": {
    "id": "vsnGlBU2CQKL"
   },
   "outputs": [],
   "source": [
    "#Mission_7. 피보나치수열은 첫째 및 둘째 항이 1이며 그 뒤의 모든 항은 바로 앞 두 항의 합인 수열이다.\n",
    "#           수열을 코드로 작성해주세요."
   ]
  },
  {
   "cell_type": "code",
   "execution_count": null,
   "metadata": {
    "id": "wQMqbee0CTRV"
   },
   "outputs": [],
   "source": [
    "#Missoin_8. 아래의 내용을 보고 결과를 출력하는 코드를 작성해주세요.\n",
    "'''10보다 작은 자연수 중에서 3 또는 5의 배수는 3, 5, 6, 9 이고, 이것을 모두 더하면 23입니다.\n",
    "   1000보다 작은 자연수 중에서 3 또는 5의 배수를 모두 더하면 얼마일까요?'''"
   ]
  },
  {
   "cell_type": "code",
   "execution_count": null,
   "metadata": {
    "id": "-zRg-hnmCVBD"
   },
   "outputs": [],
   "source": [
    "#Mission_9. 가위,바위,보 게임을 만들어주세요.. (이긴 횟수를 알려주세요.)"
   ]
  },
  {
   "cell_type": "code",
   "execution_count": null,
   "metadata": {
    "id": "suxKQum6CXXz"
   },
   "outputs": [],
   "source": [
    "#Mission_10. 커피 자판기의 계산프로그램을 만들려고 합니다.(최대 15잔을 뽑을 수 있어요. 잔당 200원)\n",
    "#            돈을 값을 입력 받으면 커피를 뽑을 수 있는 잔수와 잔액을 알려주시면 됩니다.\n",
    "\n",
    "coffee_list{\"밀크커피:1\", \"설탕커피:2\", \"블랙커피:3\"}\n",
    "order = input(\"안녕하세요. hipo coffee입니다.커피 종류를 선택하세요 번호 : \")\n",
    "if order == 1,2,3: # 1번/ 2번/ 3번 메뉴\n",
    "    coffee_price = 200 # 가격이 200원으로 동일함.\n",
    "\n",
    "# 음료 주문\n",
    "cup = int(input(\"몇 잔 드릴까요? : \"))\n",
    "total_price = coffee_price * cup\n",
    "rec = int(input(\"총 금액은 {total_price}원. 돈을 투입해 주세요 \"))\n",
    "\n",
    "#음료 선택\n",
    "while True:\n",
    "    print(coffee_list)\n",
    "    coffee_select = input(\"음료를 선택하세요: \")\n",
    "\n",
    "    if coffee_select not in coffee_list.keys(): #내가 입력한 음료가 자판기 리스트에 없다면 아래의 문장 출력\n",
    "        print(\"잘못 선택했습니다. 다시 선택해 주세요\")\n",
    "\n",
    "    else:\n",
    "        coffee_price = coffee_list[coffee_select] #내가 선택한 음료의 가격은 자판기 리스트의 value 값임.\n",
    "\n",
    "\n",
    "        \n",
    "\n"
   ]
  }
 ],
 "metadata": {
  "colab": {
   "provenance": []
  },
  "kernelspec": {
   "display_name": "Python 3 (ipykernel)",
   "language": "python",
   "name": "python3"
  },
  "language_info": {
   "codemirror_mode": {
    "name": "ipython",
    "version": 3
   },
   "file_extension": ".py",
   "mimetype": "text/x-python",
   "name": "python",
   "nbconvert_exporter": "python",
   "pygments_lexer": "ipython3",
   "version": "3.10.9"
  }
 },
 "nbformat": 4,
 "nbformat_minor": 1
}
