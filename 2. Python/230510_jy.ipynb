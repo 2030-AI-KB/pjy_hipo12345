{
 "cells": [
  {
   "cell_type": "code",
   "execution_count": 1,
   "id": "bd1e1df9",
   "metadata": {},
   "outputs": [
    {
     "name": "stdout",
     "output_type": "stream",
     "text": [
      "String to capitalize [type q to quit]: test\n",
      "Test\n",
      "String to capitalize [type q to quit]: hey, it works Hey,\n",
      "Hey, it works hey,\n",
      "String to capitalize [type q to quit]: hey, it works Hey, it works\n",
      "Hey, it works hey, it works\n",
      "String to capitalize [type q to quit]: q\n"
     ]
    }
   ],
   "source": [
    "#while를 이용한 무한 반복문 작성\n",
    "while True: # 무한 반복 설정(True는 진리값이므로 무조건 참!!!!!)\n",
    "    stuff = input(\"String to capitalize [type q to quit]: \")\n",
    "    if stuff ==\"q\":\n",
    "        #print(\"종료하겠습니다.\")\n",
    "        break # 입력값이 q이면 무한 반복을 탈출하게 한다(break 구문)\n",
    "        print(\"종료하겠습니다\")\n",
    "    print(stuff.capitalize()) #capitalize 함수를 통해서 문장 시작의 첫 알파벳을 대문자로 만듦 \n",
    "    "
   ]
  },
  {
   "cell_type": "code",
   "execution_count": 6,
   "id": "3fce9a69",
   "metadata": {},
   "outputs": [
    {
     "name": "stdout",
     "output_type": "stream",
     "text": [
      "Integer, please [q to quit]: 1\n",
      "1 squared is 1\n",
      "Integer, please [q to quit]: 2\n",
      "Integer, please [q to quit]: 3\n",
      "3 squared is 9\n",
      "Integer, please [q to quit]: 4\n",
      "Integer, please [q to quit]: 5\n",
      "5 squared is 25\n",
      "Integer, please [q to quit]: q\n"
     ]
    }
   ],
   "source": [
    "while True:\n",
    "    value = input(\"Integer, please [q to quit]: \")\n",
    "    if value == 'q': #q이면 종료\n",
    "        break\n",
    "    number = int(value)\n",
    "    if number % 2 == 0: # 어떠한 숫자를 2로 나누어서 짝수가 되면\n",
    "        continue # 건너뛰자\n",
    "    print(number, \"squared is\", number*number)"
   ]
  },
  {
   "cell_type": "code",
   "execution_count": 7,
   "id": "a057e4a3",
   "metadata": {},
   "outputs": [
    {
     "name": "stdout",
     "output_type": "stream",
     "text": [
      "No even number found\n"
     ]
    }
   ],
   "source": [
    "numbers = [1, 3, 5] # 1, 3, 5 할당\n",
    "position = 0\n",
    "while position < len(numbers):\n",
    "    number = numbers[position]\n",
    "    if number % 2 == 0:\n",
    "        print('Found even number', number)\n",
    "        break\n",
    "    position += 1\n",
    "else:\n",
    "    print('No even number found')"
   ]
  },
  {
   "cell_type": "code",
   "execution_count": 9,
   "id": "e02cdbfc",
   "metadata": {},
   "outputs": [
    {
     "name": "stdout",
     "output_type": "stream",
     "text": [
      "t\n",
      "h\n",
      "u\n",
      "d\n",
      "t\n",
      "h\n",
      "u\n",
      "d\n"
     ]
    }
   ],
   "source": [
    "word = 'thud'\n",
    "offset = 0\n",
    "while offset < len(word):\n",
    "    print(word[offset])\n",
    "    offset += 1\n",
    "    \n",
    "for X in word:\n",
    "    print(X)"
   ]
  },
  {
   "cell_type": "code",
   "execution_count": 11,
   "id": "d7b67535",
   "metadata": {},
   "outputs": [
    {
     "name": "stdout",
     "output_type": "stream",
     "text": [
      "1\n",
      "2\n",
      "3\n",
      "4\n",
      "5\n",
      "6\n",
      "7\n",
      "8\n",
      "9\n",
      "10\n"
     ]
    }
   ],
   "source": [
    "for X in range(1,11):\n",
    "    print(X)"
   ]
  },
  {
   "cell_type": "code",
   "execution_count": 13,
   "id": "fcb7817b",
   "metadata": {},
   "outputs": [
    {
     "name": "stdout",
     "output_type": "stream",
     "text": [
      "['i', 'am', 'a', 'boy']\n",
      "[1, 2, 3, 4, 5, 6, 7, 8, 9, 10, 11, 12, 13, 14, 15, 16, 17, 18, 19, 20, 21, 22, 23, 24, 25, 26, 27, 28, 29, 30, 31, 32, 33, 34, 35, 36, 37, 38, 39, 40, 41, 42, 43, 44, 45]\n"
     ]
    }
   ],
   "source": [
    "Str = ('i am a boy')\n",
    "Str_1 = Str.split()\n",
    "print(Str_1)\n",
    "arr = list(range(1,46))\n",
    "print(arr)"
   ]
  },
  {
   "cell_type": "code",
   "execution_count": null,
   "id": "8e24d53f",
   "metadata": {},
   "outputs": [],
   "source": [
    "# while문으로 로그인 프로그래밍 만들기 \n",
    "# 아이디 비밀번호 입력 > 5회이상 실패 시, 다른 인증수단으로 해주세요. \n",
    "while True:\n",
    "    login_1 = input(\"아이디:  \")\n",
    "    login_2 = input(\"패스워드: \")\n",
    "    if login == 1: #\n",
    "         print(\" 로그인에 %d회 이상 실패하셨습니다. \")\n",
    "        \n",
    "    login = int(value)\n",
    "    if login < 5: # 5회이상 실패 시, 다른 인증수단으로 해주세요.\n",
    "       print(\" %d회 이상 실패하셨습니다. 다른 수단으로 인증해주세요.\")\n",
    "    if login == 10:\n",
    "        print(\"관리자에게 문의하세요\")"
   ]
  },
  {
   "cell_type": "code",
   "execution_count": 19,
   "id": "264ffa69",
   "metadata": {},
   "outputs": [
    {
     "name": "stdout",
     "output_type": "stream",
     "text": [
      "()\n",
      "('Groucho',)\n",
      "Groucho\n",
      "('Groucho', 'Chico', 'Harpo')\n"
     ]
    }
   ],
   "source": [
    "empty_tuple = ()\n",
    "print(empty_tuple)\n",
    "\n",
    "one_marx = 'Groucho',\n",
    "print(one_marx)\n",
    "\n",
    "one_marx = ('Groucho')\n",
    "print(one_marx)\n",
    "type(one_marx)\n",
    "\n",
    "marx_tuple = 'Groucho', 'Chico', 'Harpo'\n",
    "print(marx_tuple)"
   ]
  },
  {
   "cell_type": "code",
   "execution_count": 23,
   "id": "9faafa62",
   "metadata": {},
   "outputs": [
    {
     "data": {
      "text/plain": [
       "('yada', 'yada', 'yada')"
      ]
     },
     "execution_count": 23,
     "metadata": {},
     "output_type": "execute_result"
    }
   ],
   "source": [
    "('yada',) * 3"
   ]
  },
  {
   "cell_type": "code",
   "execution_count": 25,
   "id": "82f81bd9",
   "metadata": {},
   "outputs": [
    {
     "name": "stdout",
     "output_type": "stream",
     "text": [
      "['ready', 'fire', 'aim']\n",
      "('ready', 'fire', 'aim')\n"
     ]
    }
   ],
   "source": [
    "a_tuple = ('ready', 'fire', 'aim')\n",
    "a_list = list(a_tuple)\n",
    "new_tuple = tuple(a_list)\n",
    "print(a_list)\n",
    "print(a_tuple)"
   ]
  },
  {
   "cell_type": "code",
   "execution_count": 27,
   "id": "e4408352",
   "metadata": {},
   "outputs": [],
   "source": [
    "marxes = ['Grouch', 'Chico', 'Harpo']\n",
    "marxes[2] = 'Wanda'"
   ]
  },
  {
   "cell_type": "code",
   "execution_count": 30,
   "id": "57317cd5",
   "metadata": {},
   "outputs": [
    {
     "name": "stdout",
     "output_type": "stream",
     "text": [
      "[1, 'w', 'a', 't', '?', 4]\n"
     ]
    }
   ],
   "source": [
    "numbers = [1, 2, 3, 4]\n",
    "numbers[1:3] = 'wat?'\n",
    "print(numbers)"
   ]
  },
  {
   "cell_type": "code",
   "execution_count": 31,
   "id": "56ef4da8",
   "metadata": {},
   "outputs": [
    {
     "name": "stdout",
     "output_type": "stream",
     "text": [
      "['Jhon', 'Hermione', 'Ron']\n",
      "['Hermione', 'Jhon', 'Ron']\n",
      "['Hermione', 'Jhon', 'Ron']\n",
      "['Hermione', 'Jhon', 'Ron'] ['Hermione', 'Jhon', 'Ron'] ['Hermione', 'Jhon', 'Ron']\n"
     ]
    }
   ],
   "source": [
    "friend = [\"Jhon\", 'Hermione', 'Ron']\n",
    "print(friend)\n",
    "\n",
    "friend.sort()\n",
    "print(friend)\n",
    "\n",
    "sorted_friend = sorted(friend)\n",
    "print(sorted_friend)\n",
    "\n",
    "a = friend.copy()\n",
    "b = list(a)\n",
    "c = a[:]\n",
    "print(a, b, c)"
   ]
  }
 ],
 "metadata": {
  "kernelspec": {
   "display_name": "Python 3 (ipykernel)",
   "language": "python",
   "name": "python3"
  },
  "language_info": {
   "codemirror_mode": {
    "name": "ipython",
    "version": 3
   },
   "file_extension": ".py",
   "mimetype": "text/x-python",
   "name": "python",
   "nbconvert_exporter": "python",
   "pygments_lexer": "ipython3",
   "version": "3.10.9"
  }
 },
 "nbformat": 4,
 "nbformat_minor": 5
}
