{
 "cells": [
  {
   "cell_type": "code",
   "execution_count": 11,
   "id": "3fbcf683",
   "metadata": {},
   "outputs": [
    {
     "name": "stdout",
     "output_type": "stream",
     "text": [
      "커피를 사셨나요? (Y/N)y\n",
      "머니를 아끼자\n"
     ]
    }
   ],
   "source": [
    "# #미션3 주머니에 3000원이 있음. 버스를 타면 1000원, 택시를 타면 2000원. 저는 1000원짜리 커피를 먹게 되면 어떤 교통수단을 활용하면 좋을까요?\n",
    "\n",
    "# m= 2500\n",
    "# coffee=1500\n",
    "# buy = input(\"커피를 사셨나요? (Y/N)\")\n",
    "\n",
    "# if buy ==\"Y\" :\n",
    "#     m=m-coffee\n",
    "#     if m >=2000 :\n",
    "#         print(\"택시타고 가\")\n",
    "#     else :\n",
    "#         print(\"버스타고 가\")\n",
    "    \n",
    "# else :\n",
    "#     if m >=1500 :\n",
    "#         print(\"머니를 아끼자\")\n",
    "#     else :\n",
    "#         if m >=1000 :\n",
    "#             print(\"교통수단 타지마. 지금 제정신이니?\")\n",
    " \n",
    "# money = int(input(\"너 주머니에 얼마있니? :\"))\n",
    "# coffee = 1500\n",
    "\n",
    "# if money <= 1000:\n",
    "#         print(\"돈없어 암것도 하지마....\")\n",
    "# elif money == 1000:\n",
    "#         print(\"더이상 아무것도 하지마.. 버스는 탈 수 있어\")\n",
    "# else:\n",
    "#     dec = input(\"커피를 샀나요? (Y/N) : \")\n",
    "#     if dec == \"Y\" :\n",
    "#         money = money - coffee\n",
    "#         if money >= 2000 :\n",
    "#             print(\"Taxi 타고가세요\")\n",
    "#         elif money >= 1000 : \n",
    "#             print(\"버스타고 가세요\")\n",
    "#         else:\n",
    "#             print(\"커피 사먹으면 니 다리가 고생해!!!!\")\n",
    "#     else :\n",
    "#         if dec == \"N\" :\n",
    "#             if money >= 2000 :\n",
    "#                 print(\"Taxi 타고가세요\")\n",
    "#             else:\n",
    "#                 print(\"버스타고 가세요\")\n",
    "#         else:\n",
    "#             print(\"잘못입력하셨어요........\")\n",
    "        "
   ]
  },
  {
   "cell_type": "code",
   "execution_count": 22,
   "id": "43b88524",
   "metadata": {},
   "outputs": [
    {
     "name": "stdout",
     "output_type": "stream",
     "text": [
      "2개 숫자를 입력하세요 :9 8\n",
      "17\n",
      "1\n"
     ]
    }
   ],
   "source": [
    "# 미션4 원하는 두수를 입력받고 사칙연산자를 넣으면 그 결과를 보여주는 프로그래밍 \n",
    "x,y= map(int,input(\"2개 숫자를 입력하세요 :\").split())\n",
    "print(x+y)\n",
    "print(x-y)\n"
   ]
  }
 ],
 "metadata": {
  "kernelspec": {
   "display_name": "Python 3 (ipykernel)",
   "language": "python",
   "name": "python3"
  },
  "language_info": {
   "codemirror_mode": {
    "name": "ipython",
    "version": 3
   },
   "file_extension": ".py",
   "mimetype": "text/x-python",
   "name": "python",
   "nbconvert_exporter": "python",
   "pygments_lexer": "ipython3",
   "version": "3.10.9"
  }
 },
 "nbformat": 4,
 "nbformat_minor": 5
}
