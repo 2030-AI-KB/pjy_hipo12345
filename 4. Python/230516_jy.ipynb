{
 "cells": [
  {
   "cell_type": "code",
   "execution_count": 3,
   "id": "42993807",
   "metadata": {},
   "outputs": [],
   "source": [
    "def do_nothing():\n",
    "    pass"
   ]
  },
  {
   "cell_type": "code",
   "execution_count": 4,
   "id": "595fee6a",
   "metadata": {},
   "outputs": [
    {
     "name": "stdout",
     "output_type": "stream",
     "text": [
      "quack\n"
     ]
    }
   ],
   "source": [
    "def make_a_sound():\n",
    "    print('quack')\n",
    "\n",
    "make_a_sound()"
   ]
  },
  {
   "cell_type": "code",
   "execution_count": 7,
   "id": "22faddee",
   "metadata": {},
   "outputs": [],
   "source": [
    "def agree():\n",
    "    return True"
   ]
  },
  {
   "cell_type": "code",
   "execution_count": 8,
   "id": "a25ba371",
   "metadata": {},
   "outputs": [],
   "source": [
    "def echo(anything):\n",
    "    return anything + ' ' + anything\n"
   ]
  },
  {
   "cell_type": "code",
   "execution_count": 10,
   "id": "1a6bbcac",
   "metadata": {},
   "outputs": [
    {
     "name": "stdout",
     "output_type": "stream",
     "text": [
      "6\n"
     ]
    }
   ],
   "source": [
    "def add_num(a,b):\n",
    "    return a + b\n",
    "def cha_num(a,b):\n",
    "    return a - b\n",
    "def input_num():\n",
    "    num_1 = input(\"input num_1 : \")\n",
    "    return int(num_1)\n",
    "\n",
    "num_1 = input(\"input num_1 : \")\n",
    "num_2 = input(\"input num_2 : \")\n",
    "print(add_num(int(num_1), int(num_2)))\n",
    "print(cha_num(int(num_1), int(num_2)))"
   ]
  },
  {
   "cell_type": "code",
   "execution_count": null,
   "id": "9d8f33e7",
   "metadata": {},
   "outputs": [],
   "source": [
    "def input_data():\n",
    "    input_id = input(\"input ID : \")\n",
    "    input_pw = input(\"input PW : \")"
   ]
  },
  {
   "cell_type": "code",
   "execution_count": 11,
   "id": "3803b2aa",
   "metadata": {},
   "outputs": [
    {
     "name": "stdout",
     "output_type": "stream",
     "text": [
      "['b']\n"
     ]
    }
   ],
   "source": [
    "def works(arg):\n",
    "    result = []\n",
    "    result.append(arg)\n",
    "    return result\n",
    "\n",
    "res = works('a')\n",
    "res = works('b')\n",
    "print(res)\n"
   ]
  }
 ],
 "metadata": {
  "kernelspec": {
   "display_name": "Python 3 (ipykernel)",
   "language": "python",
   "name": "python3"
  },
  "language_info": {
   "codemirror_mode": {
    "name": "ipython",
    "version": 3
   },
   "file_extension": ".py",
   "mimetype": "text/x-python",
   "name": "python",
   "nbconvert_exporter": "python",
   "pygments_lexer": "ipython3",
   "version": "3.10.9"
  }
 },
 "nbformat": 4,
 "nbformat_minor": 5
}
