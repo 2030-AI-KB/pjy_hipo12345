{
 "cells": [
  {
   "cell_type": "code",
   "execution_count": null,
   "id": "9afb03f2",
   "metadata": {},
   "outputs": [],
   "source": [
    "#미션 1: 원하는 두수를 입력받아서 사칙연산한 결과를 보여주는 프로그래밍을 하시오.\n",
    "a= int(input(\"첫번째 수: \"))\n",
    "b= int(input(\"두번째 수: \"))\n",
    "print(\"몫은 :\" ,a), "
   ]
  },
  {
   "cell_type": "code",
   "execution_count": 2,
   "id": "7f586304",
   "metadata": {},
   "outputs": [],
   "source": [
    "#사칙연산 계산기를 만들어보자\n",
    "\n",
    "#[계산]버튼 클릭 시\n",
    "def OnCalc(self, event):\n",
    "    n1 = int(self.num1.GetValue())      #숫자1의 값을 가져옴\n",
    "    n2 = int(self.num2.GEtValue())      #숫자2의 값을 가져옴\n",
    "    radio_ck = self.m_radioBox2.GetStringSelection()    #radio박스에 체크된 값을 가져옴\n",
    "   \n",
    "    if radio_ck == '+':       #체크된 radio조건에 따라 연산\n",
    "        result = n1 + n2\n",
    "    elif radio_ck == '-':\n",
    "        result = n1 - n2\n",
    "    elif radio_ck == '*':\n",
    "        result = n1 * n2\n",
    "    elif radio_ck == '/':\n",
    "        result = n1 / n2\n",
    "    self.result.setValue(str(result))     #결과창에 SetValue()를 통해 result값을 할당\n",
    "\n",
    "#[초기화]버튼 클릭 시\n",
    "def OnRefresh(self, event):\n",
    "    self.num1.Setvalue(' ')\n",
    "    self.num2.SetValue(' ')\n",
    "    self.result.SetValue(' ')\n",
    "\n",
    "#[종료]버튼 클릭 시\n",
    "def OnCancel( self, event ):\n",
    "        self.Close()"
   ]
  },
  {
   "cell_type": "code",
   "execution_count": null,
   "id": "d5cc430f",
   "metadata": {},
   "outputs": [],
   "source": []
  }
 ],
 "metadata": {
  "kernelspec": {
   "display_name": "Python 3 (ipykernel)",
   "language": "python",
   "name": "python3"
  },
  "language_info": {
   "codemirror_mode": {
    "name": "ipython",
    "version": 3
   },
   "file_extension": ".py",
   "mimetype": "text/x-python",
   "name": "python",
   "nbconvert_exporter": "python",
   "pygments_lexer": "ipython3",
   "version": "3.10.9"
  }
 },
 "nbformat": 4,
 "nbformat_minor": 5
}
